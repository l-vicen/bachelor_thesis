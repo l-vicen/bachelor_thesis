{
 "cells": [
  {
   "cell_type": "code",
   "execution_count": 9,
   "id": "4fb291b4",
   "metadata": {},
   "outputs": [],
   "source": [
    "from pyomo.environ import *\n",
    "from pao.pyomo import *"
   ]
  },
  {
   "cell_type": "code",
   "execution_count": 10,
   "id": "a355b30f",
   "metadata": {},
   "outputs": [],
   "source": [
    "M = ConcreteModel()\n",
    "M.x = Var(bounds=(0,None))\n",
    "M.y = Var(bounds=(0,None))\n",
    "M.o = Objective(expr=M.x - 4*M.y)"
   ]
  },
  {
   "cell_type": "code",
   "execution_count": 11,
   "id": "38314157",
   "metadata": {},
   "outputs": [],
   "source": [
    "M.sub = SubModel(fixed=M.x)\n",
    "M.sub.o = Objective(expr=M.y)"
   ]
  },
  {
   "cell_type": "code",
   "execution_count": 18,
   "id": "3c8b8d4f",
   "metadata": {},
   "outputs": [],
   "source": [
    "M.sub.c1 = Constraint(expr= (-M.x - M.y <= -3))\n",
    "M.sub.c2 = Constraint(expr= (-2*M.x + M.y <= 0))\n",
    "M.sub.c3 = Constraint(expr= (2*M.x + M.y <= 12))\n",
    "M.sub.c4 = Constraint(expr= (-3*M.x + 2*M.y <= -4))"
   ]
  },
  {
   "cell_type": "code",
   "execution_count": 19,
   "id": "91900c6b",
   "metadata": {},
   "outputs": [
    {
     "name": "stdout",
     "output_type": "stream",
     "text": [
      "2 Var Declarations\n",
      "    x : Size=1, Index=None\n",
      "        Key  : Lower : Value : Upper : Fixed : Stale : Domain\n",
      "        None :     0 :  None :  None : False :  True :  Reals\n",
      "    y : Size=1, Index=None\n",
      "        Key  : Lower : Value : Upper : Fixed : Stale : Domain\n",
      "        None :     0 :  None :  None : False :  True :  Reals\n",
      "\n",
      "1 Objective Declarations\n",
      "    o : Size=1, Index=None, Active=True\n",
      "        Key  : Active : Sense    : Expression\n",
      "        None :   True : minimize : x - 4*y\n",
      "\n",
      "1 SubModel Declarations\n",
      "    sub : Size=1, Index=None, Active=True\n",
      "        1 Objective Declarations\n",
      "            o : Size=1, Index=None, Active=True\n",
      "                Key  : Active : Sense    : Expression\n",
      "                None :   True : minimize :          y\n",
      "\n",
      "        4 Constraint Declarations\n",
      "            c1 : Size=1, Index=None, Active=True\n",
      "                Key  : Lower : Body    : Upper : Active\n",
      "                None :  -Inf : - x - y :  -3.0 :   True\n",
      "            c2 : Size=1, Index=None, Active=True\n",
      "                Key  : Lower : Body     : Upper : Active\n",
      "                None :  -Inf : -2*x + y :   0.0 :   True\n",
      "            c3 : Size=1, Index=None, Active=True\n",
      "                Key  : Lower : Body    : Upper : Active\n",
      "                None :  -Inf : 2*x + y :  12.0 :   True\n",
      "            c4 : Size=1, Index=None, Active=True\n",
      "                Key  : Lower : Body       : Upper : Active\n",
      "                None :  -Inf : -3*x + 2*y :  -4.0 :   True\n",
      "\n",
      "        5 Declarations: o c1 c2 c3 c4\n",
      "\n",
      "4 Declarations: x y o sub\n"
     ]
    }
   ],
   "source": [
    "M.pprint()"
   ]
  },
  {
   "cell_type": "code",
   "execution_count": null,
   "id": "a90aada1",
   "metadata": {},
   "outputs": [],
   "source": []
  },
  {
   "cell_type": "code",
   "execution_count": null,
   "id": "d9ee6034",
   "metadata": {},
   "outputs": [],
   "source": []
  }
 ],
 "metadata": {
  "kernelspec": {
   "display_name": "Python 3 (ipykernel)",
   "language": "python",
   "name": "python3"
  },
  "language_info": {
   "codemirror_mode": {
    "name": "ipython",
    "version": 3
   },
   "file_extension": ".py",
   "mimetype": "text/x-python",
   "name": "python",
   "nbconvert_exporter": "python",
   "pygments_lexer": "ipython3",
   "version": "3.9.15"
  }
 },
 "nbformat": 4,
 "nbformat_minor": 5
}
