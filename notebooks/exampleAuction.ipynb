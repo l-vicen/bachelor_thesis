{
 "cells": [
  {
   "cell_type": "code",
   "execution_count": 57,
   "id": "cf83c1d3",
   "metadata": {},
   "outputs": [],
   "source": [
    "from pyomo.environ import *\n",
    "from pao.pyomo import *"
   ]
  },
  {
   "cell_type": "markdown",
   "id": "4b077907",
   "metadata": {},
   "source": [
    "### Example Setting: German government creates a procurement auction of fruits for Laim's community Kindergarten in Munich. The auction data is:\n",
    "- Procurement_items = {Apples, Bananas, Tomatos}\n",
    "- Participating_Qualifies_Suppliers = {Christina_GmbH, Lucas_GmbH}\n",
    "- Auctioneer_Demand = {15,25,50}\n",
    "- Auctioneer_Budget = {10,20,50} \n",
    "- Christina_Production_Cost = {18.75,12.5,37.5} \n",
    "- Lucas_Production_Cost = {7.5,15,50} \n",
    "- Lucas_Supplier_Capacity = {15,25,50} \n",
    "- Christina_Supplier_Capacity = {10,25,50} "
   ]
  },
  {
   "cell_type": "code",
   "execution_count": 58,
   "id": "d4ad11aa",
   "metadata": {},
   "outputs": [],
   "source": [
    "# Create a model object\n",
    "model = ConcreteModel(\"Upper-level: Auction Problem\")"
   ]
  },
  {
   "cell_type": "code",
   "execution_count": 59,
   "id": "52660403",
   "metadata": {},
   "outputs": [],
   "source": [
    "# Subscripts\n",
    "model.i = Set(initialize=['Apples', 'Bananas', 'Tomatos'], doc='Items')\n",
    "model.j = Set(initialize=['Christina_GmbH', 'Lucas_GmbH'], doc='Suppliers')"
   ]
  },
  {
   "cell_type": "code",
   "execution_count": 60,
   "id": "474c1f8a",
   "metadata": {},
   "outputs": [],
   "source": [
    "# Upper-level Parameters\n",
    "#   Parameters\n",
    "#       D(i)  demand for item i\n",
    "#         /    apples    15\n",
    "#              bananas   25  /\n",
    "#              tomatos   50\n",
    "#       B(i)  budget for item i\n",
    "#         /    apples    10\n",
    "#              bananas   20  /\n",
    "#              tomatos   50;\n",
    "model.Demand = Param(model.i, initialize={'Apples':15, 'Bananas':25, 'Tomatos':50}, doc='Budget Items')\n",
    "model.Budget = Param(model.i, initialize={'Apples':10, 'Bananas':20, 'Tomatos':50}, doc='Demand Items')"
   ]
  },
  {
   "cell_type": "code",
   "execution_count": 61,
   "id": "51fb3617",
   "metadata": {},
   "outputs": [],
   "source": [
    "SupplierCapacity = {\n",
    "    ('Christina_GmbH', 'Apples'): 15,\n",
    "    ('Lucas_GmbH', 'Apples'): 15,\n",
    "    ('Christina_GmbH', 'Bananas'): 25,\n",
    "    ('Lucas_GmbH', 'Bananas'): 25,\n",
    "    ('Christina_GmbH', 'Tomatos'):50,\n",
    "    ('Lucas_GmbH', 'Tomatos'): 50,\n",
    "}"
   ]
  },
  {
   "cell_type": "code",
   "execution_count": 62,
   "id": "282071cc",
   "metadata": {},
   "outputs": [],
   "source": [
    "model.CapacitySupply = Param(model.j, model.i, initialize=SupplierCapacity, doc='Supply Capacity of Suppliers')"
   ]
  },
  {
   "cell_type": "code",
   "execution_count": 63,
   "id": "10e668e2",
   "metadata": {},
   "outputs": [],
   "source": [
    "ProductionCosts = {\n",
    "    ('Christina_GmbH', 'Apples'): 18.75,\n",
    "    ('Lucas_GmbH', 'Apples'): 7.5,\n",
    "    ('Christina_GmbH', 'Bananas'): 12.5,\n",
    "    ('Lucas_GmbH', 'Bananas'): 15,\n",
    "    ('Christina_GmbH', 'Tomatos'): 37.5,\n",
    "    ('Lucas_GmbH', 'Tomatos'): 50,\n",
    "}"
   ]
  },
  {
   "cell_type": "code",
   "execution_count": 64,
   "id": "73f37f67",
   "metadata": {},
   "outputs": [],
   "source": [
    "model.ProductionCosts = Param(model.j, model.i, initialize=ProductionCosts, doc='Production Cost per Supplier')"
   ]
  },
  {
   "cell_type": "code",
   "execution_count": 65,
   "id": "e217904e",
   "metadata": {},
   "outputs": [],
   "source": [
    "model.X = Var(model.j, model.i, domain=Binary, doc='Decision Variable X')\n",
    "model.P = Var(model.j, model.i, bounds=(0, None), doc='Decision Variable P')"
   ]
  },
  {
   "cell_type": "code",
   "execution_count": 66,
   "id": "9f036c95",
   "metadata": {},
   "outputs": [],
   "source": [
    "def auctionObjectiveFunction(model):\n",
    "    return sum(model.P[j,i]*model.X[j,i] for j,i in model.j*model.i)"
   ]
  },
  {
   "cell_type": "code",
   "execution_count": 67,
   "id": "7da37711",
   "metadata": {},
   "outputs": [],
   "source": [
    "model.UpperLevelObjective = Objective(rule=auctionObjectiveFunction, sense=minimize, doc='Auction Problem')"
   ]
  },
  {
   "cell_type": "code",
   "execution_count": 68,
   "id": "9d7d25a3",
   "metadata": {},
   "outputs": [],
   "source": [
    "def singleSourcing(model, i):\n",
    "    return sum(model.X[j,i] for j in model.j) == 1\n",
    "model.SorcingConstraint = Constraint(model.i, rule=singleSourcing, doc='There is at most 1 winner')"
   ]
  },
  {
   "cell_type": "code",
   "execution_count": 69,
   "id": "7bf823f6",
   "metadata": {},
   "outputs": [],
   "source": [
    "def budgetRequirement(model, i):\n",
    "    return sum(model.ProductionCosts[j,i] * model.X[j,i] for j in model.j) <= model.Budget[i]\n",
    "model.BudgetConstraint = Constraint(model.i, rule=budgetRequirement, doc='Auctioneer budget is respected')"
   ]
  },
  {
   "cell_type": "code",
   "execution_count": 70,
   "id": "10500152",
   "metadata": {},
   "outputs": [],
   "source": [
    "def demandRequirement(model, i):\n",
    "    return sum(model.CapacitySupply[j,i] * model.X[j,i] for j in model.j) >= model.Demand[i]\n",
    "model.DemandConstraint = Constraint(model.i, rule=demandRequirement, doc='Auctioneer demand is fullfilled')"
   ]
  },
  {
   "cell_type": "code",
   "execution_count": 71,
   "id": "3be39163",
   "metadata": {},
   "outputs": [],
   "source": [
    "# def pricingObjectiveFunction(submodel):\n",
    "#     return sum((model.P[j,i] - model.ProductionCosts[j,i])*model.X[j,i] for j,i in model.j*model.i)"
   ]
  },
  {
   "cell_type": "code",
   "execution_count": 82,
   "id": "8ce07e8b",
   "metadata": {},
   "outputs": [
    {
     "name": "stdout",
     "output_type": "stream",
     "text": [
      "WARNING: Implicitly replacing the Component attribute L (type=<class\n",
      "    'pao.pyomo.components.SubModel'>) on block 'Upper-level: Auction Problem'\n",
      "    with a new Component (type=<class 'pao.pyomo.components.SubModel'>). This\n",
      "    is usually indicative of a modelling error. To avoid this warning, use\n",
      "    block.del_component() and block.add_component().\n"
     ]
    }
   ],
   "source": [
    "model.L = SubModel(fixed=[model.X])"
   ]
  },
  {
   "cell_type": "code",
   "execution_count": 83,
   "id": "64cc8a6a",
   "metadata": {},
   "outputs": [],
   "source": [
    "model.L.o = Objective(rule=(sum((model.P[j,i] - model.ProductionCosts[j,i])*model.X[j,i] for j,i in model.j*model.i)), sense=maximize, doc='Pricing Problem')"
   ]
  },
  {
   "cell_type": "code",
   "execution_count": 84,
   "id": "cd3abb8d",
   "metadata": {},
   "outputs": [
    {
     "name": "stdout",
     "output_type": "stream",
     "text": [
      "7 Set Declarations\n",
      "    CapacitySupply_index : Size=1, Index=None, Ordered=True\n",
      "        Key  : Dimen : Domain : Size : Members\n",
      "        None :     2 :    j*i :    6 : {('Christina_GmbH', 'Apples'), ('Christina_GmbH', 'Bananas'), ('Christina_GmbH', 'Tomatos'), ('Lucas_GmbH', 'Apples'), ('Lucas_GmbH', 'Bananas'), ('Lucas_GmbH', 'Tomatos')}\n",
      "    P_index : Size=1, Index=None, Ordered=True\n",
      "        Key  : Dimen : Domain : Size : Members\n",
      "        None :     2 :    j*i :    6 : {('Christina_GmbH', 'Apples'), ('Christina_GmbH', 'Bananas'), ('Christina_GmbH', 'Tomatos'), ('Lucas_GmbH', 'Apples'), ('Lucas_GmbH', 'Bananas'), ('Lucas_GmbH', 'Tomatos')}\n",
      "    ProductionCosts_index : Size=1, Index=None, Ordered=True\n",
      "        Key  : Dimen : Domain : Size : Members\n",
      "        None :     2 :    j*i :    6 : {('Christina_GmbH', 'Apples'), ('Christina_GmbH', 'Bananas'), ('Christina_GmbH', 'Tomatos'), ('Lucas_GmbH', 'Apples'), ('Lucas_GmbH', 'Bananas'), ('Lucas_GmbH', 'Tomatos')}\n",
      "    X_index : Size=1, Index=None, Ordered=True\n",
      "        Key  : Dimen : Domain : Size : Members\n",
      "        None :     2 :    j*i :    6 : {('Christina_GmbH', 'Apples'), ('Christina_GmbH', 'Bananas'), ('Christina_GmbH', 'Tomatos'), ('Lucas_GmbH', 'Apples'), ('Lucas_GmbH', 'Bananas'), ('Lucas_GmbH', 'Tomatos')}\n",
      "    i : Items\n",
      "        Size=1, Index=None, Ordered=Insertion\n",
      "        Key  : Dimen : Domain : Size : Members\n",
      "        None :     1 :    Any :    3 : {'Apples', 'Bananas', 'Tomatos'}\n",
      "    j : Suppliers\n",
      "        Size=1, Index=None, Ordered=Insertion\n",
      "        Key  : Dimen : Domain : Size : Members\n",
      "        None :     1 :    Any :    2 : {'Christina_GmbH', 'Lucas_GmbH'}\n",
      "    zzz_PAO_SlackVariables_index : Size=1, Index=None, Ordered=Insertion\n",
      "        Key  : Dimen : Domain : Size : Members\n",
      "        None :     1 :    Any :    0 :      {}\n",
      "\n",
      "4 Param Declarations\n",
      "    Budget : Demand Items\n",
      "        Size=3, Index=i, Domain=Any, Default=None, Mutable=False\n",
      "        Key     : Value\n",
      "         Apples :    10\n",
      "        Bananas :    20\n",
      "        Tomatos :    50\n",
      "    CapacitySupply : Supply Capacity of Suppliers\n",
      "        Size=6, Index=CapacitySupply_index, Domain=Any, Default=None, Mutable=False\n",
      "        Key                           : Value\n",
      "         ('Christina_GmbH', 'Apples') :    15\n",
      "        ('Christina_GmbH', 'Bananas') :    25\n",
      "        ('Christina_GmbH', 'Tomatos') :    50\n",
      "             ('Lucas_GmbH', 'Apples') :    15\n",
      "            ('Lucas_GmbH', 'Bananas') :    25\n",
      "            ('Lucas_GmbH', 'Tomatos') :    50\n",
      "    Demand : Budget Items\n",
      "        Size=3, Index=i, Domain=Any, Default=None, Mutable=False\n",
      "        Key     : Value\n",
      "         Apples :    15\n",
      "        Bananas :    25\n",
      "        Tomatos :    50\n",
      "    ProductionCosts : Production Cost per Supplier\n",
      "        Size=6, Index=ProductionCosts_index, Domain=Any, Default=None, Mutable=False\n",
      "        Key                           : Value\n",
      "         ('Christina_GmbH', 'Apples') : 18.75\n",
      "        ('Christina_GmbH', 'Bananas') :  12.5\n",
      "        ('Christina_GmbH', 'Tomatos') :  37.5\n",
      "             ('Lucas_GmbH', 'Apples') :   7.5\n",
      "            ('Lucas_GmbH', 'Bananas') :    15\n",
      "            ('Lucas_GmbH', 'Tomatos') :    50\n",
      "\n",
      "3 Var Declarations\n",
      "    P : Decision Variable P\n",
      "        Size=6, Index=P_index\n",
      "        Key                           : Lower : Value                  : Upper : Fixed : Stale : Domain\n",
      "         ('Christina_GmbH', 'Apples') :     0 :                    0.0 :  None : False : False :  Reals\n",
      "        ('Christina_GmbH', 'Bananas') :     0 :                    0.0 :  None : False : False :  Reals\n",
      "        ('Christina_GmbH', 'Tomatos') :     0 :                    0.0 :  None : False : False :  Reals\n",
      "             ('Lucas_GmbH', 'Apples') :     0 : -7.494096406374967e-09 :  None : False : False :  Reals\n",
      "            ('Lucas_GmbH', 'Bananas') :     0 : -7.494096406374967e-09 :  None : False : False :  Reals\n",
      "            ('Lucas_GmbH', 'Tomatos') :     0 : -7.494096406374967e-09 :  None : False : False :  Reals\n",
      "    X : Decision Variable X\n",
      "        Size=6, Index=X_index\n",
      "        Key                           : Lower : Value : Upper : Fixed : Stale : Domain\n",
      "         ('Christina_GmbH', 'Apples') :     0 :   0.0 :     1 : False : False : Binary\n",
      "        ('Christina_GmbH', 'Bananas') :     0 :   0.0 :     1 : False : False : Binary\n",
      "        ('Christina_GmbH', 'Tomatos') :     0 :   0.0 :     1 : False : False : Binary\n",
      "             ('Lucas_GmbH', 'Apples') :     0 :   1.0 :     1 : False : False : Binary\n",
      "            ('Lucas_GmbH', 'Bananas') :     0 :   1.0 :     1 : False : False : Binary\n",
      "            ('Lucas_GmbH', 'Tomatos') :     0 :   1.0 :     1 : False : False : Binary\n",
      "    zzz_PAO_SlackVariables : Size=0, Index=zzz_PAO_SlackVariables_index\n",
      "        Key : Lower : Value : Upper : Fixed : Stale : Domain\n",
      "\n",
      "1 Objective Declarations\n",
      "    U : Auction Problem\n",
      "        Size=1, Index=None, Active=True\n",
      "        Key  : Active : Sense    : Expression\n",
      "        None :   True : minimize : P[Christina_GmbH,Apples]*X[Christina_GmbH,Apples] + P[Christina_GmbH,Bananas]*X[Christina_GmbH,Bananas] + P[Christina_GmbH,Tomatos]*X[Christina_GmbH,Tomatos] + P[Lucas_GmbH,Apples]*X[Lucas_GmbH,Apples] + P[Lucas_GmbH,Bananas]*X[Lucas_GmbH,Bananas] + P[Lucas_GmbH,Tomatos]*X[Lucas_GmbH,Tomatos]\n",
      "\n",
      "3 Constraint Declarations\n",
      "    BudgetConstraint : Auctioneer budget is respected\n",
      "        Size=3, Index=i, Active=True\n",
      "        Key     : Lower : Body                                                      : Upper : Active\n",
      "         Apples :  -Inf : 18.75*X[Christina_GmbH,Apples] + 7.5*X[Lucas_GmbH,Apples] :  10.0 :   True\n",
      "        Bananas :  -Inf : 12.5*X[Christina_GmbH,Bananas] + 15*X[Lucas_GmbH,Bananas] :  20.0 :   True\n",
      "        Tomatos :  -Inf : 37.5*X[Christina_GmbH,Tomatos] + 50*X[Lucas_GmbH,Tomatos] :  50.0 :   True\n",
      "    DemandConstraint : Auctioneer demand is fullfilled\n",
      "        Size=3, Index=i, Active=True\n",
      "        Key     : Lower : Body                                                    : Upper : Active\n",
      "         Apples :  15.0 :   15*X[Christina_GmbH,Apples] + 15*X[Lucas_GmbH,Apples] :  +Inf :   True\n",
      "        Bananas :  25.0 : 25*X[Christina_GmbH,Bananas] + 25*X[Lucas_GmbH,Bananas] :  +Inf :   True\n",
      "        Tomatos :  50.0 : 50*X[Christina_GmbH,Tomatos] + 50*X[Lucas_GmbH,Tomatos] :  +Inf :   True\n",
      "    SorcingConstraint : There is at most 1 winner\n",
      "        Size=3, Index=i, Active=True\n",
      "        Key     : Lower : Body                                              : Upper : Active\n",
      "         Apples :   1.0 :   X[Christina_GmbH,Apples] + X[Lucas_GmbH,Apples] :   1.0 :   True\n",
      "        Bananas :   1.0 : X[Christina_GmbH,Bananas] + X[Lucas_GmbH,Bananas] :   1.0 :   True\n",
      "        Tomatos :   1.0 : X[Christina_GmbH,Tomatos] + X[Lucas_GmbH,Tomatos] :   1.0 :   True\n",
      "\n",
      "1 SubModel Declarations\n",
      "    L : Size=1, Index=None, Active=True\n",
      "        1 Objective Declarations\n",
      "            o : Pricing Problem\n",
      "                Size=1, Index=None, Active=True\n",
      "                Key  : Active : Sense    : Expression\n",
      "                None :   True : maximize : (P[Christina_GmbH,Apples] - 18.75)*X[Christina_GmbH,Apples] + (P[Christina_GmbH,Bananas] - 12.5)*X[Christina_GmbH,Bananas] + (P[Christina_GmbH,Tomatos] - 37.5)*X[Christina_GmbH,Tomatos] + (P[Lucas_GmbH,Apples] - 7.5)*X[Lucas_GmbH,Apples] + (P[Lucas_GmbH,Bananas] - 15)*X[Lucas_GmbH,Bananas] + (P[Lucas_GmbH,Tomatos] - 50)*X[Lucas_GmbH,Tomatos]\n",
      "\n",
      "        1 Declarations: o\n",
      "\n",
      "19 Declarations: i j Demand Budget CapacitySupply_index CapacitySupply ProductionCosts_index ProductionCosts X_index X P_index P U SorcingConstraint BudgetConstraint DemandConstraint zzz_PAO_SlackVariables_index zzz_PAO_SlackVariables L\n"
     ]
    }
   ],
   "source": [
    "model.pprint()"
   ]
  },
  {
   "cell_type": "code",
   "execution_count": 87,
   "id": "c9e16e1e",
   "metadata": {},
   "outputs": [
    {
     "data": {
      "text/plain": [
       "'Linear Solver (bilevel)'"
      ]
     },
     "execution_count": 87,
     "metadata": {},
     "output_type": "execute_result"
    }
   ],
   "source": [
    "'''Non-linear Solver (non-bilevel)'''\n",
    "solver = SolverFactory('mindtpy').solve(model)\n",
    "\n",
    "'''Linear Solver (bilevel)'''\n",
    "# solver = Solver('pao.pyomo.MIBS').solve(model)"
   ]
  },
  {
   "cell_type": "code",
   "execution_count": 88,
   "id": "97e22ad8",
   "metadata": {},
   "outputs": [
    {
     "name": "stdout",
     "output_type": "stream",
     "text": [
      "7 Set Declarations\n",
      "    CapacitySupply_index : Size=1, Index=None, Ordered=True\n",
      "        Key  : Dimen : Domain : Size : Members\n",
      "        None :     2 :    j*i :    6 : {('Christina_GmbH', 'Apples'), ('Christina_GmbH', 'Bananas'), ('Christina_GmbH', 'Tomatos'), ('Lucas_GmbH', 'Apples'), ('Lucas_GmbH', 'Bananas'), ('Lucas_GmbH', 'Tomatos')}\n",
      "    P_index : Size=1, Index=None, Ordered=True\n",
      "        Key  : Dimen : Domain : Size : Members\n",
      "        None :     2 :    j*i :    6 : {('Christina_GmbH', 'Apples'), ('Christina_GmbH', 'Bananas'), ('Christina_GmbH', 'Tomatos'), ('Lucas_GmbH', 'Apples'), ('Lucas_GmbH', 'Bananas'), ('Lucas_GmbH', 'Tomatos')}\n",
      "    ProductionCosts_index : Size=1, Index=None, Ordered=True\n",
      "        Key  : Dimen : Domain : Size : Members\n",
      "        None :     2 :    j*i :    6 : {('Christina_GmbH', 'Apples'), ('Christina_GmbH', 'Bananas'), ('Christina_GmbH', 'Tomatos'), ('Lucas_GmbH', 'Apples'), ('Lucas_GmbH', 'Bananas'), ('Lucas_GmbH', 'Tomatos')}\n",
      "    X_index : Size=1, Index=None, Ordered=True\n",
      "        Key  : Dimen : Domain : Size : Members\n",
      "        None :     2 :    j*i :    6 : {('Christina_GmbH', 'Apples'), ('Christina_GmbH', 'Bananas'), ('Christina_GmbH', 'Tomatos'), ('Lucas_GmbH', 'Apples'), ('Lucas_GmbH', 'Bananas'), ('Lucas_GmbH', 'Tomatos')}\n",
      "    i : Items\n",
      "        Size=1, Index=None, Ordered=Insertion\n",
      "        Key  : Dimen : Domain : Size : Members\n",
      "        None :     1 :    Any :    3 : {'Apples', 'Bananas', 'Tomatos'}\n",
      "    j : Suppliers\n",
      "        Size=1, Index=None, Ordered=Insertion\n",
      "        Key  : Dimen : Domain : Size : Members\n",
      "        None :     1 :    Any :    2 : {'Christina_GmbH', 'Lucas_GmbH'}\n",
      "    zzz_PAO_SlackVariables_index : Size=1, Index=None, Ordered=Insertion\n",
      "        Key  : Dimen : Domain : Size : Members\n",
      "        None :     1 :    Any :    0 :      {}\n",
      "\n",
      "4 Param Declarations\n",
      "    Budget : Demand Items\n",
      "        Size=3, Index=i, Domain=Any, Default=None, Mutable=False\n",
      "        Key     : Value\n",
      "         Apples :    10\n",
      "        Bananas :    20\n",
      "        Tomatos :    50\n",
      "    CapacitySupply : Supply Capacity of Suppliers\n",
      "        Size=6, Index=CapacitySupply_index, Domain=Any, Default=None, Mutable=False\n",
      "        Key                           : Value\n",
      "         ('Christina_GmbH', 'Apples') :    15\n",
      "        ('Christina_GmbH', 'Bananas') :    25\n",
      "        ('Christina_GmbH', 'Tomatos') :    50\n",
      "             ('Lucas_GmbH', 'Apples') :    15\n",
      "            ('Lucas_GmbH', 'Bananas') :    25\n",
      "            ('Lucas_GmbH', 'Tomatos') :    50\n",
      "    Demand : Budget Items\n",
      "        Size=3, Index=i, Domain=Any, Default=None, Mutable=False\n",
      "        Key     : Value\n",
      "         Apples :    15\n",
      "        Bananas :    25\n",
      "        Tomatos :    50\n",
      "    ProductionCosts : Production Cost per Supplier\n",
      "        Size=6, Index=ProductionCosts_index, Domain=Any, Default=None, Mutable=False\n",
      "        Key                           : Value\n",
      "         ('Christina_GmbH', 'Apples') : 18.75\n",
      "        ('Christina_GmbH', 'Bananas') :  12.5\n",
      "        ('Christina_GmbH', 'Tomatos') :  37.5\n",
      "             ('Lucas_GmbH', 'Apples') :   7.5\n",
      "            ('Lucas_GmbH', 'Bananas') :    15\n",
      "            ('Lucas_GmbH', 'Tomatos') :    50\n",
      "\n",
      "3 Var Declarations\n",
      "    P : Decision Variable P\n",
      "        Size=6, Index=P_index\n",
      "        Key                           : Lower : Value                  : Upper : Fixed : Stale : Domain\n",
      "         ('Christina_GmbH', 'Apples') :     0 :                    0.0 :  None : False : False :  Reals\n",
      "        ('Christina_GmbH', 'Bananas') :     0 :                    0.0 :  None : False : False :  Reals\n",
      "        ('Christina_GmbH', 'Tomatos') :     0 :                    0.0 :  None : False : False :  Reals\n",
      "             ('Lucas_GmbH', 'Apples') :     0 : -7.494096406374967e-09 :  None : False : False :  Reals\n",
      "            ('Lucas_GmbH', 'Bananas') :     0 : -7.494096406374967e-09 :  None : False : False :  Reals\n",
      "            ('Lucas_GmbH', 'Tomatos') :     0 : -7.494096406374967e-09 :  None : False : False :  Reals\n",
      "    X : Decision Variable X\n",
      "        Size=6, Index=X_index\n",
      "        Key                           : Lower : Value : Upper : Fixed : Stale : Domain\n",
      "         ('Christina_GmbH', 'Apples') :     0 :   0.0 :     1 : False : False : Binary\n",
      "        ('Christina_GmbH', 'Bananas') :     0 :   0.0 :     1 : False : False : Binary\n",
      "        ('Christina_GmbH', 'Tomatos') :     0 :   0.0 :     1 : False : False : Binary\n",
      "             ('Lucas_GmbH', 'Apples') :     0 :   1.0 :     1 : False : False : Binary\n",
      "            ('Lucas_GmbH', 'Bananas') :     0 :   1.0 :     1 : False : False : Binary\n",
      "            ('Lucas_GmbH', 'Tomatos') :     0 :   1.0 :     1 : False : False : Binary\n",
      "    zzz_PAO_SlackVariables : Size=0, Index=zzz_PAO_SlackVariables_index\n",
      "        Key : Lower : Value : Upper : Fixed : Stale : Domain\n",
      "\n",
      "1 Objective Declarations\n",
      "    U : Auction Problem\n",
      "        Size=1, Index=None, Active=True\n",
      "        Key  : Active : Sense    : Expression\n",
      "        None :   True : minimize : P[Christina_GmbH,Apples]*X[Christina_GmbH,Apples] + P[Christina_GmbH,Bananas]*X[Christina_GmbH,Bananas] + P[Christina_GmbH,Tomatos]*X[Christina_GmbH,Tomatos] + P[Lucas_GmbH,Apples]*X[Lucas_GmbH,Apples] + P[Lucas_GmbH,Bananas]*X[Lucas_GmbH,Bananas] + P[Lucas_GmbH,Tomatos]*X[Lucas_GmbH,Tomatos]\n",
      "\n",
      "3 Constraint Declarations\n",
      "    BudgetConstraint : Auctioneer budget is respected\n",
      "        Size=3, Index=i, Active=True\n",
      "        Key     : Lower : Body                                                      : Upper : Active\n",
      "         Apples :  -Inf : 18.75*X[Christina_GmbH,Apples] + 7.5*X[Lucas_GmbH,Apples] :  10.0 :   True\n",
      "        Bananas :  -Inf : 12.5*X[Christina_GmbH,Bananas] + 15*X[Lucas_GmbH,Bananas] :  20.0 :   True\n",
      "        Tomatos :  -Inf : 37.5*X[Christina_GmbH,Tomatos] + 50*X[Lucas_GmbH,Tomatos] :  50.0 :   True\n",
      "    DemandConstraint : Auctioneer demand is fullfilled\n",
      "        Size=3, Index=i, Active=True\n",
      "        Key     : Lower : Body                                                    : Upper : Active\n",
      "         Apples :  15.0 :   15*X[Christina_GmbH,Apples] + 15*X[Lucas_GmbH,Apples] :  +Inf :   True\n",
      "        Bananas :  25.0 : 25*X[Christina_GmbH,Bananas] + 25*X[Lucas_GmbH,Bananas] :  +Inf :   True\n",
      "        Tomatos :  50.0 : 50*X[Christina_GmbH,Tomatos] + 50*X[Lucas_GmbH,Tomatos] :  +Inf :   True\n",
      "    SorcingConstraint : There is at most 1 winner\n",
      "        Size=3, Index=i, Active=True\n",
      "        Key     : Lower : Body                                              : Upper : Active\n",
      "         Apples :   1.0 :   X[Christina_GmbH,Apples] + X[Lucas_GmbH,Apples] :   1.0 :   True\n",
      "        Bananas :   1.0 : X[Christina_GmbH,Bananas] + X[Lucas_GmbH,Bananas] :   1.0 :   True\n",
      "        Tomatos :   1.0 : X[Christina_GmbH,Tomatos] + X[Lucas_GmbH,Tomatos] :   1.0 :   True\n",
      "\n",
      "1 SubModel Declarations\n",
      "    L : Size=1, Index=None, Active=True\n",
      "        1 Objective Declarations\n",
      "            o : Pricing Problem\n",
      "                Size=1, Index=None, Active=True\n",
      "                Key  : Active : Sense    : Expression\n",
      "                None :   True : maximize : (P[Christina_GmbH,Apples] - 18.75)*X[Christina_GmbH,Apples] + (P[Christina_GmbH,Bananas] - 12.5)*X[Christina_GmbH,Bananas] + (P[Christina_GmbH,Tomatos] - 37.5)*X[Christina_GmbH,Tomatos] + (P[Lucas_GmbH,Apples] - 7.5)*X[Lucas_GmbH,Apples] + (P[Lucas_GmbH,Bananas] - 15)*X[Lucas_GmbH,Bananas] + (P[Lucas_GmbH,Tomatos] - 50)*X[Lucas_GmbH,Tomatos]\n",
      "\n",
      "        1 Declarations: o\n",
      "\n",
      "19 Declarations: i j Demand Budget CapacitySupply_index CapacitySupply ProductionCosts_index ProductionCosts X_index X P_index P U SorcingConstraint BudgetConstraint DemandConstraint zzz_PAO_SlackVariables_index zzz_PAO_SlackVariables L\n"
     ]
    }
   ],
   "source": [
    "model.pprint()"
   ]
  },
  {
   "cell_type": "code",
   "execution_count": null,
   "id": "a4840e84",
   "metadata": {},
   "outputs": [],
   "source": []
  },
  {
   "cell_type": "code",
   "execution_count": null,
   "id": "7bf01441",
   "metadata": {},
   "outputs": [],
   "source": []
  },
  {
   "cell_type": "code",
   "execution_count": null,
   "id": "894aac8f",
   "metadata": {},
   "outputs": [],
   "source": []
  },
  {
   "cell_type": "code",
   "execution_count": null,
   "id": "71af4309",
   "metadata": {},
   "outputs": [],
   "source": []
  },
  {
   "cell_type": "code",
   "execution_count": null,
   "id": "52b5c7d6",
   "metadata": {},
   "outputs": [],
   "source": []
  },
  {
   "cell_type": "code",
   "execution_count": null,
   "id": "c69ea9c9",
   "metadata": {},
   "outputs": [],
   "source": []
  },
  {
   "cell_type": "code",
   "execution_count": null,
   "id": "437c0bcf",
   "metadata": {},
   "outputs": [],
   "source": []
  },
  {
   "cell_type": "code",
   "execution_count": null,
   "id": "f28208ba",
   "metadata": {},
   "outputs": [],
   "source": []
  }
 ],
 "metadata": {
  "kernelspec": {
   "display_name": "Python 3 (ipykernel)",
   "language": "python",
   "name": "python3"
  },
  "language_info": {
   "codemirror_mode": {
    "name": "ipython",
    "version": 3
   },
   "file_extension": ".py",
   "mimetype": "text/x-python",
   "name": "python",
   "nbconvert_exporter": "python",
   "pygments_lexer": "ipython3",
   "version": "3.9.15"
  },
  "vscode": {
   "interpreter": {
    "hash": "1a1af0ee75eeea9e2e1ee996c87e7a2b11a0bebd85af04bb136d915cefc0abce"
   }
  }
 },
 "nbformat": 4,
 "nbformat_minor": 5
}
